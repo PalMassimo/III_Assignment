{
 "cells": [
  {
   "cell_type": "markdown",
   "metadata": {},
   "source": [
    "# III Assignment - Routing Algorithms\n",
    "## Bidirectional Dijkstra"
   ]
  },
  {
   "cell_type": "markdown",
   "metadata": {},
   "source": [
    "---\n",
    "## Dependencies\n",
    "Necessaries imports"
   ]
  },
  {
   "cell_type": "code",
   "execution_count": 1,
   "metadata": {},
   "outputs": [],
   "source": [
    "from ipynb.fs.full.exercise1 import initialize_graph, min_distance\n",
    "from ipynb.fs.full.exercise2a import contract, build_predecessors\n",
    "from heap import binheap"
   ]
  },
  {
   "cell_type": "markdown",
   "metadata": {},
   "source": [
    "---\n",
    "# Reverse Graph\n",
    "Bidirectional Dijkstra works on a graph and on his transpose graph. The following function takes a graph and it returns his transpose."
   ]
  },
  {
   "cell_type": "code",
   "execution_count": 2,
   "metadata": {},
   "outputs": [],
   "source": [
    "def transpose_graph(graph):\n",
    "    transpose_graph = dict()\n",
    "\n",
    "    # copy graph in reverse graph but with adjacenct list empty\n",
    "    for start_node, value in graph.items():\n",
    "        transpose_graph.setdefault(start_node, {'adjacency_list': dict(), 'importance': value.get('importance')})\n",
    "\n",
    "    # fill the adjacency lists\n",
    "    for start_node, value in graph.items():\n",
    "        for adjacent, distance in graph.get(start_node).get('adjacency_list').items():\n",
    "            transpose_graph.get(adjacent).get(\n",
    "                'adjacency_list').setdefault(start_node, distance)\n",
    "\n",
    "    return transpose_graph\n"
   ]
  },
  {
   "cell_type": "markdown",
   "metadata": {},
   "source": [
    "---\n",
    "## Bidirectional Dijkstra\n",
    "The following function performs the bidirectional version of Dijkstra"
   ]
  },
  {
   "cell_type": "code",
   "execution_count": 12,
   "metadata": {},
   "outputs": [],
   "source": [
    "def bidirectional_dijkstra(graph, source, destination):\n",
    "\n",
    "    # build the graphs for the forward search and the backward search\n",
    "    graph_fw = graph\n",
    "    graph_bw = transpose_graph(graph)\n",
    "    \n",
    "    # initialization of the graphs\n",
    "    initialize_graph(graph_fw, source)\n",
    "    initialize_graph(graph_bw, destination)\n",
    "    \n",
    "    # every search has to have its own binary heap queue \n",
    "    queue_fw = binheap([[key, attributes.get('distance')] for key, attributes in graph_fw.items()], total_order = min_distance)\n",
    "    queue_bw = binheap([[key, attributes.get('distance')] for key, attributes in graph_bw.items()], total_order = min_distance)\n",
    "    \n",
    "    common_node = None\n",
    "    \n",
    "    iteration = 1\n",
    "\n",
    "    current_node_fw, _ = queue_fw.remove_minimum()\n",
    "    current_node_bw, _ = queue_bw.remove_minimum()\n",
    "    \n",
    "    while not queue_fw.is_empty() and not queue_bw.is_empty():\n",
    "        \n",
    "        print('\\nIteration Number', iteration)\n",
    "        iteration = iteration + 1\n",
    "        \n",
    "        # relax forward and backward\n",
    "        relax(graph_fw, current_node_fw, queue_fw)\n",
    "        relax(graph_bw, current_node_bw, queue_bw)\n",
    "\n",
    "        # forward: the node in which I will step into is a valid node?\n",
    "        if graph_fw.get(queue_fw.get_minimum()[0]).get('importance') <= graph_fw.get(current_node_fw).get('importance'):\n",
    "            contract(graph_fw, queue_fw.get_minimum()[0])\n",
    "            print('[forward  search]: removed node', queue_fw.remove_minimum()[0])\n",
    "        else:\n",
    "            current_node_fw, _ = queue_fw.remove_minimum()\n",
    "            graph_fw.get(current_node_fw)['visited'] = True\n",
    "            print('[forward  search]: stepped into', current_node_fw)\n",
    "            if graph_bw.get(current_node_fw) is not None and graph_bw.get(current_node_fw).get('visited') is True:\n",
    "                print('\\n[forward  search]: the node', current_node_fw, 'has been already visited by backward search')\n",
    "                common_node = current_node_fw\n",
    "                break;\n",
    "                                     \n",
    "        # backward: the node in which I will step into is a valid node?\n",
    "        if graph_bw.get(queue_bw.get_minimum()[0]).get('importance') <= graph_bw.get(current_node_bw).get('importance'):\n",
    "            contract(graph_bw, queue_bw.get_minimum()[0])\n",
    "            print('[backward search]: removed node', queue_bw.remove_minimum()[0])\n",
    "        else:\n",
    "            current_node_bw, _ = queue_bw.remove_minimum()\n",
    "            graph_bw.get(current_node_bw)['visited'] = True\n",
    "            print('[backward search]: stepped into', current_node_bw)\n",
    "            if graph_fw.get(current_node_bw) is not None and graph_fw.get(current_node_bw).get('visited') is True:\n",
    "                print('\\n[backward search]: the node', current_node_bw, 'has been already visited by forward search')\n",
    "                common_node = current_node_bw\n",
    "                break;\n",
    "\n",
    "    if common_node is not None:\n",
    "        path_fw = build_predecessors(graph_fw, common_node)\n",
    "        path_bw = build_predecessors(graph_bw, common_node)\n",
    "        path_bw.reverse()\n",
    "        path_bw.remove(common_node)\n",
    "        return graph_fw.get(common_node).get('distance') + graph_bw.get(common_node).get('distance'), path_fw + path_bw\n",
    "    else:\n",
    "        return -1, None"
   ]
  },
  {
   "cell_type": "code",
   "execution_count": 15,
   "metadata": {},
   "outputs": [
    {
     "name": "stdout",
     "output_type": "stream",
     "text": [
      "\n",
      "Iteration Number 1\n",
      "[forward  search]: removed node B\n",
      "[backward search]: removed node G\n",
      "\n",
      "Iteration Number 2\n",
      "[forward  search]: removed node D\n",
      "[backward search]: removed node H\n",
      "\n",
      "Iteration Number 3\n",
      "[forward  search]: removed node E\n",
      "[backward search]: removed node E\n",
      "\n",
      "Iteration Number 4\n",
      "[forward  search]: stepped into C\n",
      "[backward search]: removed node D\n",
      "\n",
      "Iteration Number 5\n",
      "[forward  search]: removed node H\n",
      "[backward search]: removed node F\n",
      "\n",
      "Iteration Number 6\n",
      "[forward  search]: removed node F\n",
      "[backward search]: removed node B\n",
      "\n",
      "Iteration Number 7\n",
      "[forward  search]: removed node G\n",
      "[backward search]: removed node A\n",
      "\n",
      "Iteration Number 8\n",
      "[forward  search]: removed node I\n",
      "[backward search]: stepped into C\n",
      "\n",
      "[backward search]: the node C has been already visited by forward search\n",
      "(52, ['A', 'C', 'I'])\n"
     ]
    }
   ],
   "source": [
    "if __name__ == '__main__':\n",
    "    graph = {}\n",
    "    graph.setdefault('A', {'adjacency_list': {'B': 3, 'E': 5}, 'importance': 5})\n",
    "    graph.setdefault('B', {'adjacency_list': {'C': 3},         'importance': 2})\n",
    "    graph.setdefault('C', {'adjacency_list': {'D': 3},         'importance': 2})\n",
    "    graph.setdefault('D', {'adjacency_list': {},               'importance': 5})\n",
    "    graph.setdefault('E', {'adjacency_list': {'D': 5},         'importance': 8})\n",
    "\n",
    "    graph2 = {}\n",
    "    graph2.setdefault('A', {'adjacency_list': {'B': 3,'E': 5},  'importance': 1})\n",
    "    graph2.setdefault('B', {'adjacency_list': {},               'importance': 1})\n",
    "    graph2.setdefault('C', {'adjacency_list': {'B': 3},         'importance': 1})\n",
    "    graph2.setdefault('D', {'adjacency_list': {'C': 3},         'importance': 1})\n",
    "    graph2.setdefault('E', {'adjacency_list': {'D': 5},         'importance': 3})\n",
    "\n",
    "    graph3 = {}\n",
    "    graph3.setdefault('A', {'adjacency_list': {'B': 4},                 'importance': 20})\n",
    "    graph3.setdefault('B', {'adjacency_list': {'C': 11, 'D': 9},        'importance': 7})\n",
    "    graph3.setdefault('C', {'adjacency_list': {'A': 8},                 'importance': 55})\n",
    "    graph3.setdefault('D', {'adjacency_list': {'E': 2, 'F': 6, 'C': 7}, 'importance': 1})\n",
    "    graph3.setdefault('E', {'adjacency_list': {'B': 8, 'G': 7, 'H': 4}, 'importance': 1})\n",
    "    graph3.setdefault('F', {'adjacency_list': {'C': 1, 'E': 5},         'importance': 1})\n",
    "    graph3.setdefault('G', {'adjacency_list': {'H': 14, 'I': 9},        'importance': 5})\n",
    "    graph3.setdefault('H', {'adjacency_list': {'F': 2, 'I': 10},        'importance': 7})\n",
    "    graph3.setdefault('I', {'adjacency_list': {},                       'importance': 20})\n",
    "    \n",
    "    print(bidirectional_dijkstra(graph3, 'A', 'I'))\n",
    "    #print(transpose_graph(graph))\n"
   ]
  }
 ],
 "metadata": {
  "kernelspec": {
   "display_name": "Python 3",
   "language": "python",
   "name": "python3"
  },
  "language_info": {
   "codemirror_mode": {
    "name": "ipython",
    "version": 3
   },
   "file_extension": ".py",
   "mimetype": "text/x-python",
   "name": "python",
   "nbconvert_exporter": "python",
   "pygments_lexer": "ipython3",
   "version": "3.9.0"
  }
 },
 "nbformat": 4,
 "nbformat_minor": 4
}
