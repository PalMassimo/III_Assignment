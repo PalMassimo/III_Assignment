{
 "cells": [
  {
   "cell_type": "markdown",
   "metadata": {},
   "source": [
    "# III Assignment - Routing Algorithms\n",
    "## Student Massimo Palmisano\n",
    "### Alghoritm to Add the shortcuts to a Graph"
   ]
  },
  {
   "cell_type": "markdown",
   "metadata": {},
   "source": [
    "---\n",
    "## Dependencies\n",
    "Dependencies needed to run the following code"
   ]
  },
  {
   "cell_type": "code",
   "execution_count": 1,
   "metadata": {},
   "outputs": [],
   "source": [
    "from ipynb.fs.full.exercise1 import relax, initialize_graph, min_distance\n",
    "from heap import binheap\n",
    "import copy"
   ]
  },
  {
   "cell_type": "markdown",
   "metadata": {},
   "source": [
    "---\n",
    "## Modified version of Dijkstra's Algorithm\n",
    "In the contraction function we are interested in the minimum distance between two nodes. To get it we can use Dijkstra, but in a modified version, proposed in ```get_min_distance()```."
   ]
  },
  {
   "cell_type": "code",
   "execution_count": 2,
   "metadata": {},
   "outputs": [],
   "source": [
    "def get_min_distance_between_two_nodes(graph, source, destination):\n",
    "    \n",
    "    initialize_graph(graph, source)\n",
    "    \n",
    "    queue = binheap([[node, attributes.get('distance')] for node, attributes in graph.items()], total_order = min_distance)\n",
    "\n",
    "    while not queue.is_empty():\n",
    "        \n",
    "        current_node, _ = queue.remove_minimum()\n",
    "        graph.get(current_node)['visited'] = True    \n",
    "        \n",
    "        relax(graph, current_node, queue)\n",
    "\n",
    "        if destination is current_node:\n",
    "            break\n",
    "            \n",
    "    predecessors = build_predecessors(graph, destination)\n",
    "\n",
    "    return graph.get(current_node).get('distance'), predecessors\n"
   ]
  },
  {
   "cell_type": "markdown",
   "metadata": {},
   "source": [
    "---\n",
    "## Predecessors\n",
    "Build a tuple of nodes from source to destination following the shortest path. Hence, it takes a graph on which it has been already applied Dijkstra."
   ]
  },
  {
   "cell_type": "code",
   "execution_count": 3,
   "metadata": {},
   "outputs": [],
   "source": [
    "def build_predecessors(graph, destination):\n",
    "    predecessors = list()\n",
    "    current_node = destination\n",
    "    while current_node is not None:\n",
    "        predecessors.append(current_node)\n",
    "        current_node = graph.get(current_node).get('predecessor')\n",
    "    predecessors.reverse()\n",
    "    return predecessors"
   ]
  },
  {
   "cell_type": "markdown",
   "metadata": {},
   "source": [
    "---\n",
    "## Contraction Function\n",
    "Replace the node with shortcuts, where needed. "
   ]
  },
  {
   "cell_type": "code",
   "execution_count": 4,
   "metadata": {},
   "outputs": [],
   "source": [
    "def contract(graph, current_node):\n",
    "    # searching all the nodes having a direct path to current_node...\n",
    "    for node, attributes in graph.items():\n",
    "        # ...for all these nodes we have to check the pair (node, neighbour_of_current_node)\n",
    "        if current_node in attributes.get(\"adjacency_list\").keys():\n",
    "            for neighbour in graph.get(current_node)['adjacency_list'].keys():\n",
    "                min_distance, predecessors = get_min_distance_between_two_nodes(copy.deepcopy(graph), node, neighbour)\n",
    "                if current_node in predecessors:\n",
    "                    graph.get(node).get('adjacency_list').setdefault(neighbour, min_distance)\n",
    "            # delete the references to the deleted node\n",
    "            attributes.get('adjacency_list').pop(current_node)\n",
    "    graph.pop(current_node)   "
   ]
  },
  {
   "cell_type": "markdown",
   "metadata": {},
   "source": [
    "---\n",
    "## Algorithm to add the shortcuts to a graph\n",
    "The alghorithm delete the nodes and arcs according to the Contraction Hierarchies Algorithm. In particular, in the following piece of code, the minimum importance parameter is given in order to delete all the nodes with an importance less than the one given"
   ]
  },
  {
   "cell_type": "code",
   "execution_count": 5,
   "metadata": {},
   "outputs": [],
   "source": [
    "def contraction_hierarchies(graph, min_importance):\n",
    "    for node, attributes in copy.deepcopy(graph).items():\n",
    "        if attributes.get('importance') <= min_importance:\n",
    "            contract(graph, node)\n",
    "    return graph"
   ]
  },
  {
   "cell_type": "markdown",
   "metadata": {},
   "source": [
    "---\n",
    "## Example"
   ]
  },
  {
   "cell_type": "code",
   "execution_count": 10,
   "metadata": {},
   "outputs": [
    {
     "name": "stdout",
     "output_type": "stream",
     "text": [
      "Node A is survived with importance 1\n",
      "Node B is survived with importance 2\n",
      "Node C is survived with importance 2\n",
      "Node D is survived with importance 1\n",
      "Node E is survived with importance 3\n",
      "Node F is survived with importance 2\n"
     ]
    }
   ],
   "source": [
    "if __name__ == '__main__':\n",
    "    graph = {}\n",
    "    graph.setdefault('A', {'adjacency_list': {'B': 3, 'E': 6}, 'importance': 1})\n",
    "    graph.setdefault('B', {'adjacency_list': {'F': 1},         'importance': 2})\n",
    "    graph.setdefault('C', {'adjacency_list': {'D': 3},         'importance': 2})\n",
    "    graph.setdefault('D', {'adjacency_list': {},               'importance': 1})\n",
    "    graph.setdefault('E', {'adjacency_list': {'D': 6},         'importance': 3})\n",
    "    graph.setdefault('F', {'adjacency_list': {'C': 1},         'importance': 2})\n",
    "\n",
    "    for node, attributes in contraction_hierarchies(graph, 0).items():\n",
    "        print('Node', node, 'is survived with importance', attributes.get('importance'))\n"
   ]
  },
  {
   "cell_type": "code",
   "execution_count": null,
   "metadata": {},
   "outputs": [],
   "source": []
  }
 ],
 "metadata": {
  "kernelspec": {
   "display_name": "Python 3",
   "language": "python",
   "name": "python3"
  },
  "language_info": {
   "codemirror_mode": {
    "name": "ipython",
    "version": 3
   },
   "file_extension": ".py",
   "mimetype": "text/x-python",
   "name": "python",
   "nbconvert_exporter": "python",
   "pygments_lexer": "ipython3",
   "version": "3.9.0"
  }
 },
 "nbformat": 4,
 "nbformat_minor": 4
}
