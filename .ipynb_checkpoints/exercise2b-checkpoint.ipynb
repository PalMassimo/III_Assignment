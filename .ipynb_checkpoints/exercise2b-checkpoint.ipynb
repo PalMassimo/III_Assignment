{
 "cells": [
  {
   "cell_type": "markdown",
   "metadata": {},
   "source": [
    "# Bidirectional Dijkstra with shortcuts\n",
    "The following code implement the bidirectional version of Dijkstra. When a path is build, if the node in which we are going to step has an importance less than the one at hand, a contraction is performed. Hence, the shortcuts are added only if it is strictly necessary. The forward and backward paths have the property that a visited node has a priority bigger than its previous."
   ]
  },
  {
   "cell_type": "markdown",
   "metadata": {},
   "source": [
    "---\n",
    "## Dependencies\n",
    "Dependencies needed to run the code in this file."
   ]
  },
  {
   "cell_type": "code",
   "execution_count": 2,
   "metadata": {},
   "outputs": [],
   "source": [
    "from ipynb.fs.full.exercise1 import initialize_graph, min_distance\n",
    "from ipynb.fs.full.exercise2a import contract, build_predecessors, relax\n",
    "from heap import binheap"
   ]
  },
  {
   "cell_type": "markdown",
   "metadata": {},
   "source": [
    "---\n",
    "# Transpose Graph\n",
    "Bidirectional Dijkstra works on a graph and on his transpose graph. Hence, the function `transpose_graph()` takes a graph and it returns his transpose."
   ]
  },
  {
   "cell_type": "code",
   "execution_count": 3,
   "metadata": {},
   "outputs": [],
   "source": [
    "def transpose_graph(graph):\n",
    "    transpose_graph = dict()\n",
    "\n",
    "    # copy graph in reverse graph but with adjacenct list empty\n",
    "    for start_node, value in graph.items():\n",
    "        transpose_graph.setdefault(start_node, {'adjacency_list': dict(), 'importance': value.get('importance')})\n",
    "\n",
    "    # fill the adjacency lists\n",
    "    for start_node, value in graph.items():\n",
    "        for adjacent, distance in graph.get(start_node).get('adjacency_list').items():\n",
    "            transpose_graph.get(adjacent).get(\n",
    "                'adjacency_list').setdefault(start_node, distance)\n",
    "\n",
    "    return transpose_graph\n"
   ]
  },
  {
   "cell_type": "markdown",
   "metadata": {},
   "source": [
    "---\n",
    "## Bidirectional Dijkstra\n",
    "As the name suggests, the function `bidirectional_dijkstra()` performs the bidirectional version of Dijkstra."
   ]
  },
  {
   "cell_type": "code",
   "execution_count": 12,
   "metadata": {},
   "outputs": [],
   "source": [
    "def bidirectional_dijkstra(graph, source, destination):\n",
    "\n",
    "    # border case\n",
    "    if source is destination:\n",
    "        return 0, source\n",
    "    \n",
    "    # build the graphs for the forward search and the backward search\n",
    "    graph_fw = graph\n",
    "    graph_bw = transpose_graph(graph)\n",
    "    \n",
    "    # initialization of the graphs\n",
    "    initialize_graph(graph_fw, source)\n",
    "    initialize_graph(graph_bw, destination)\n",
    "    \n",
    "    # every search has to have its own binary heap queue \n",
    "    queue_fw = binheap([[key, attributes.get('distance')] for key, attributes in graph_fw.items()], total_order = min_distance)\n",
    "    queue_bw = binheap([[key, attributes.get('distance')] for key, attributes in graph_bw.items()], total_order = min_distance)\n",
    "    \n",
    "    common_node = None\n",
    "    \n",
    "    iteration = 1\n",
    "\n",
    "    current_node_fw, _ = queue_fw.remove_minimum()\n",
    "    current_node_bw, _ = queue_bw.remove_minimum()\n",
    "    \n",
    "    while not queue_fw.is_empty() and not queue_bw.is_empty():\n",
    "        \n",
    "        print('\\nIteration Number', iteration)\n",
    "        iteration = iteration + 1\n",
    "        \n",
    "        # relax forward and backward\n",
    "        relax(graph_fw, current_node_fw, queue_fw)\n",
    "        relax(graph_bw, current_node_bw, queue_bw)\n",
    "\n",
    "        # forward: the node in which I will step into is a valid node?\n",
    "        if graph_fw.get(queue_fw.get_minimum()[0]).get('importance') <= graph_fw.get(current_node_fw).get('importance'):\n",
    "            contract(graph_fw, queue_fw.get_minimum()[0])\n",
    "            print('[forward  search]: removed node', queue_fw.remove_minimum()[0])\n",
    "        else:\n",
    "            current_node_fw, _ = queue_fw.remove_minimum()\n",
    "            graph_fw.get(current_node_fw)['visited'] = True\n",
    "            print('[forward  search]: stepped into', current_node_fw)\n",
    "            if graph_bw.get(current_node_fw) is not None and graph_bw.get(current_node_fw).get('visited') is True:\n",
    "                print('\\n[forward  search]: the node', current_node_fw, 'has been already visited by backward search')\n",
    "                common_node = current_node_fw\n",
    "                break;\n",
    "                                     \n",
    "        # backward: the node in which I will step into is a valid node?\n",
    "        if graph_bw.get(queue_bw.get_minimum()[0]).get('importance') <= graph_bw.get(current_node_bw).get('importance'):\n",
    "            contract(graph_bw, queue_bw.get_minimum()[0])\n",
    "            print('[backward search]: removed node', queue_bw.remove_minimum()[0])\n",
    "        else:\n",
    "            current_node_bw, _ = queue_bw.remove_minimum()\n",
    "            graph_bw.get(current_node_bw)['visited'] = True\n",
    "            print('[backward search]: stepped into', current_node_bw)\n",
    "            if graph_fw.get(current_node_bw) is not None and graph_fw.get(current_node_bw).get('visited') is True:\n",
    "                print('\\n[backward search]: the node', current_node_bw, 'has been already visited by forward search')\n",
    "                common_node = current_node_bw\n",
    "                break;\n",
    "\n",
    "    if common_node is not None:\n",
    "        path_fw = build_predecessors(graph_fw, common_node)\n",
    "        path_bw = build_predecessors(graph_bw, common_node)\n",
    "        path_bw.reverse()\n",
    "        path_bw.remove(common_node)\n",
    "        return graph_fw.get(common_node).get('distance') + graph_bw.get(common_node).get('distance'), path_fw + path_bw\n",
    "    else:\n",
    "        return -1, None"
   ]
  },
  {
   "cell_type": "markdown",
   "metadata": {},
   "source": [
    "---\n",
    "# Example\n",
    "The graph on which the code is executed is the same of the exercise 2a, but the importances are different.\n",
    "<div>\n",
    "<img style=\"display: block;margin: 0 auto;\" src=\"graph_with_importances_2.png\" width=\"700px\"/>\n",
    "</div>"
   ]
  },
  {
   "cell_type": "code",
   "execution_count": 15,
   "metadata": {},
   "outputs": [
    {
     "name": "stdout",
     "output_type": "stream",
     "text": [
      "\n",
      "Iteration Number 1\n",
      "[forward  search]: stepped into B\n",
      "[backward search]: stepped into G\n",
      "\n",
      "Iteration Number 2\n",
      "[forward  search]: removed node D\n",
      "[backward search]: stepped into H\n",
      "\n",
      "Iteration Number 3\n",
      "[forward  search]: stepped into E\n",
      "[backward search]: stepped into E\n",
      "\n",
      "[backward search]: the node E has been already visited by forward search\n",
      "The minimum distance between node A and node I is 29 and the path is ['A', 'B', 'E', 'H', 'I']\n"
     ]
    }
   ],
   "source": [
    "if __name__ == '__main__':\n",
    "\n",
    "    graph = {}\n",
    "    graph.setdefault('A', {'adjacency_list': {'B': 4},                 'importance': 1})\n",
    "    graph.setdefault('B', {'adjacency_list': {'C': 11, 'D': 9},        'importance': 2})\n",
    "    graph.setdefault('C', {'adjacency_list': {'A': 8},                 'importance': 3})\n",
    "    graph.setdefault('D', {'adjacency_list': {'E': 2, 'F': 6, 'C': 7}, 'importance': 1})\n",
    "    graph.setdefault('E', {'adjacency_list': {'B': 8, 'G': 7, 'H': 4}, 'importance': 10})\n",
    "    graph.setdefault('F', {'adjacency_list': {'C': 1, 'E': 5},         'importance': 1})\n",
    "    graph.setdefault('G', {'adjacency_list': {'H': 14, 'I': 9},        'importance': 5})\n",
    "    graph.setdefault('H', {'adjacency_list': {'F': 2, 'I': 10},        'importance': 7})\n",
    "    graph.setdefault('I', {'adjacency_list': {},                       'importance': 1})\n",
    "    \n",
    "    source = 'A'\n",
    "    destination = 'I'\n",
    "    \n",
    "    distance, path = bidirectional_dijkstra(graph, source, destination)\n",
    "    if distance != -1:\n",
    "        print('The minimum distance between node', source, 'and node', destination, 'is', distance, 'and the path is', path)\n"
   ]
  }
 ],
 "metadata": {
  "kernelspec": {
   "display_name": "Python 3",
   "language": "python",
   "name": "python3"
  },
  "language_info": {
   "codemirror_mode": {
    "name": "ipython",
    "version": 3
   },
   "file_extension": ".py",
   "mimetype": "text/x-python",
   "name": "python",
   "nbconvert_exporter": "python",
   "pygments_lexer": "ipython3",
   "version": "3.9.0"
  }
 },
 "nbformat": 4,
 "nbformat_minor": 4
}
