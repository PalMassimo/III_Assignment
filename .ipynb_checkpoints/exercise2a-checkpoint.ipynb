{
 "cells": [
  {
   "cell_type": "markdown",
   "metadata": {},
   "source": [
    "# Alghoritm to add the Shortcuts to a Graph\n",
    "The following code implement an algorithm to add the shortcuts to a graph."
   ]
  },
  {
   "cell_type": "markdown",
   "metadata": {},
   "source": [
    "---\n",
    "## Dependencies\n",
    "Dependencies needed to run the code in this file."
   ]
  },
  {
   "cell_type": "code",
   "execution_count": 1,
   "metadata": {},
   "outputs": [],
   "source": [
    "from ipynb.fs.full.exercise1 import relax, initialize_graph, min_distance\n",
    "from heap import binheap\n",
    "import copy"
   ]
  },
  {
   "cell_type": "markdown",
   "metadata": {},
   "source": [
    "---\n",
    "## Modified version of Dijkstra's Algorithm\n",
    "In the `contraction()` function we are interested only in the minimum distance between two nodes. To get it we can use Dijkstra, but in a modified version, proposed in ```get_min_distance_between_two_nodes()```."
   ]
  },
  {
   "cell_type": "code",
   "execution_count": 2,
   "metadata": {},
   "outputs": [],
   "source": [
    "def get_min_distance_between_two_nodes(graph, source, destination):\n",
    "    \n",
    "    initialize_graph(graph, source)\n",
    "    \n",
    "    queue = binheap([[node, attributes.get('distance')] for node, attributes in graph.items()], total_order = min_distance)\n",
    "\n",
    "    while not queue.is_empty():\n",
    "        \n",
    "        current_node, _ = queue.remove_minimum()\n",
    "        graph.get(current_node)['visited'] = True    \n",
    "        \n",
    "        relax(graph, current_node, queue)\n",
    "\n",
    "        if destination is current_node:\n",
    "            break\n",
    "            \n",
    "    predecessors = build_predecessors(graph, destination)\n",
    "\n",
    "    return graph.get(current_node).get('distance'), predecessors\n"
   ]
  },
  {
   "cell_type": "markdown",
   "metadata": {},
   "source": [
    "---\n",
    "## Predecessors\n",
    "Build a list of nodes from source to destination following the shortest path. It takes a graph on which it has been already applied Dijkstra."
   ]
  },
  {
   "cell_type": "code",
   "execution_count": 3,
   "metadata": {},
   "outputs": [],
   "source": [
    "def build_predecessors(graph, destination):\n",
    "    predecessors = list()\n",
    "    current_node = destination\n",
    "    while current_node is not None:\n",
    "        predecessors.append(current_node)\n",
    "        current_node = graph.get(current_node).get('predecessor')\n",
    "    predecessors.reverse()\n",
    "    return predecessors"
   ]
  },
  {
   "cell_type": "markdown",
   "metadata": {},
   "source": [
    "---\n",
    "## Contraction Function\n",
    "Replace the node with shortcuts, where needed. "
   ]
  },
  {
   "cell_type": "code",
   "execution_count": 4,
   "metadata": {},
   "outputs": [],
   "source": [
    "def contract(graph, current_node):\n",
    "    # searching all the nodes having a direct path to current_node...\n",
    "    for node, attributes in graph.items():\n",
    "        # ...for all these nodes we have to check the pair (node, neighbour_of_current_node)\n",
    "        if current_node in attributes.get(\"adjacency_list\").keys():\n",
    "            for neighbour in graph.get(current_node)['adjacency_list'].keys():\n",
    "                min_distance, predecessors = get_min_distance_between_two_nodes(copy.deepcopy(graph), node, neighbour)\n",
    "                if current_node in predecessors:\n",
    "                    graph.get(node).get('adjacency_list').setdefault(neighbour, min_distance)\n",
    "            # delete the references to the deleted node\n",
    "            attributes.get('adjacency_list').pop(current_node)\n",
    "    graph.pop(current_node)   "
   ]
  },
  {
   "cell_type": "markdown",
   "metadata": {},
   "source": [
    "---\n",
    "## Algorithm to add the shortcuts to a graph\n",
    "The alghorithm deletes nodes and edges according to the Contraction Hierarchies Algorithm. In particular, in the following piece of code, the minimum importance parameter is given in order to delete all the nodes with an importance less than the one given."
   ]
  },
  {
   "cell_type": "code",
   "execution_count": 5,
   "metadata": {},
   "outputs": [],
   "source": [
    "def contraction_hierarchies(graph, min_importance):\n",
    "    for node, attributes in copy.deepcopy(graph).items():\n",
    "        if attributes.get('importance') <= min_importance:\n",
    "            contract(graph, node)\n",
    "    return graph"
   ]
  },
  {
   "cell_type": "markdown",
   "metadata": {},
   "source": [
    "---\n",
    "## Example\n",
    "The graph on which the code is executed is the same of the one in the exercise 1, but now each node has to have an importance.\n",
    "<div>\n",
    "<img style=\"display: block;margin: 0 auto;\" src=\"graph_with_importances.png\", width=\"700px\"/>\n",
    "</div>"
   ]
  },
  {
   "cell_type": "code",
   "execution_count": 6,
   "metadata": {},
   "outputs": [
    {
     "name": "stdout",
     "output_type": "stream",
     "text": [
      "node adjacency list\n",
      "A    'B': 4\n",
      "B    'C': 11, 'D': 9\n",
      "C    'A': 8\n",
      "D    'E': 2, 'F': 6, 'C': 7\n",
      "E    'B': 8, 'G': 7, 'F': 6, 'I': 14\n",
      "F    'C': 1, 'E': 5\n",
      "G    'I': 9, 'F': 16\n",
      "I    \n"
     ]
    }
   ],
   "source": [
    "if __name__ == '__main__':\n",
    "    graph = {}\n",
    "    graph.setdefault('A', {'adjacency_list': {'B': 4}, 'importance': 5})\n",
    "    graph.setdefault('B', {'adjacency_list': {'C': 11, 'D': 9}, 'importance': 3})\n",
    "    graph.setdefault('C', {'adjacency_list': {'A': 8}, 'importance': 8})\n",
    "    graph.setdefault('D', {'adjacency_list': {'E': 2, 'F': 6, 'C': 7}, 'importance': 6})\n",
    "    graph.setdefault('E', {'adjacency_list': {'B': 8, 'G': 7, 'H': 4}, 'importance': 4})\n",
    "    graph.setdefault('F', {'adjacency_list': {'C': 1, 'E': 5},'importance': 5})\n",
    "    graph.setdefault('G', {'adjacency_list': {'H': 14, 'I': 9}, 'importance': 8})\n",
    "    graph.setdefault('H', {'adjacency_list': {'F': 2, 'I': 10}, 'importance': 1})\n",
    "    graph.setdefault('I', {'adjacency_list': {}, 'importance': 9})\n",
    "\n",
    "    print('node adjacency list')\n",
    "    for node, attributes in contraction_hierarchies(graph, 1).items():\n",
    "        print(node, '  ', str(attributes.get('adjacency_list')).replace('{', '').replace('}', ''))"
   ]
  }
 ],
 "metadata": {
  "kernelspec": {
   "display_name": "Python 3",
   "language": "python",
   "name": "python3"
  },
  "language_info": {
   "codemirror_mode": {
    "name": "ipython",
    "version": 3
   },
   "file_extension": ".py",
   "mimetype": "text/x-python",
   "name": "python",
   "nbconvert_exporter": "python",
   "pygments_lexer": "ipython3",
   "version": "3.9.0"
  }
 },
 "nbformat": 4,
 "nbformat_minor": 4
}
