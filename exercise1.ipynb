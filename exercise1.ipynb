{
 "cells": [
  {
   "cell_type": "markdown",
   "metadata": {},
   "source": [
    "# III Assignment - Routing Algorithms\n",
    "This file contains the exercise 1a, where Binary Heap based version of Dijkstra's Algorithm is provided. "
   ]
  },
  {
   "cell_type": "markdown",
   "metadata": {},
   "source": [
    "---\n",
    "### Dependencies\n",
    "The code wrote in this file uses the concept of infinity, provided by the Python standard library in the modeule math, and binary heaps, implemented by Professor Alberto Casagrande"
   ]
  },
  {
   "cell_type": "code",
   "execution_count": 1,
   "metadata": {},
   "outputs": [],
   "source": [
    "from heap import binheap\n",
    "from math import inf"
   ]
  },
  {
   "cell_type": "markdown",
   "metadata": {},
   "source": [
    "---\n",
    "### Graph Initialization\n",
    "The first step of the Dijkstra alghoritm is to set all the nodes to their default values. This is implemented by ```initialize_graph()``` function."
   ]
  },
  {
   "cell_type": "code",
   "execution_count": 2,
   "metadata": {},
   "outputs": [],
   "source": [
    "def initialize_graph(graph, source):\n",
    "    for node in graph.keys():\n",
    "        graph.get(node).update({'distance': inf})\n",
    "        graph.get(node).update({'predecessor': None})\n",
    "        graph.get(node).update({'visited': False})\n",
    "    graph.get(source).update({'distance': 0})"
   ]
  },
  {
   "cell_type": "markdown",
   "metadata": {},
   "source": [
    "---\n",
    "### Heap Total Order\n",
    "Every heap node is a pair (*node_name*, *actural_distance_from_source*). So to establish the minim between two nodes we have to compare their second value. This action is performed by the function ```min_distance```"
   ]
  },
  {
   "cell_type": "code",
   "execution_count": 3,
   "metadata": {},
   "outputs": [],
   "source": [
    "def min_distance(pair_1, pair_2):\n",
    "    return pair_1[1] < pair_2[1]"
   ]
  },
  {
   "cell_type": "markdown",
   "metadata": {},
   "source": [
    "---\n",
    "## Relax\n",
    "The function ```relax()``` performs the relax operation between a node and its adjacents."
   ]
  },
  {
   "cell_type": "code",
   "execution_count": 4,
   "metadata": {},
   "outputs": [],
   "source": [
    "def relax(graph, current_node, queue):\n",
    "    for adjacent, edge in graph.get(current_node)['adjacency_list'].items():\n",
    "        if graph.get(adjacent).get('distance') > graph.get(current_node).get('distance') + edge:\n",
    "            graph.get(adjacent)['predecessor'] = current_node\n",
    "            graph.get(adjacent)['distance'] = graph.get(current_node).get('distance') + edge\n",
    "            queue.real_decrease_key(adjacent, graph.get(current_node).get('distance') + edge)"
   ]
  },
  {
   "cell_type": "markdown",
   "metadata": {},
   "source": [
    "---\n",
    "## Dijkstra's Algorithm\n",
    "The function ```dijkstra()``` implements the dijkstra's algorithm. It takes the the graph and the source and it returns the graph, in which every node has its predecessor and its distance."
   ]
  },
  {
   "cell_type": "code",
   "execution_count": 5,
   "metadata": {},
   "outputs": [],
   "source": [
    "def dijkstra(graph, source):\n",
    "    \n",
    "    initialize_graph(graph, source)\n",
    "    \n",
    "    queue = binheap([[node, attributes.get('distance')] for node, attributes in graph.items()], total_order = min_distance)\n",
    "\n",
    "    while not queue.is_empty():\n",
    "        \n",
    "        current_node, _ = queue.remove_minimum()\n",
    "        print('[dijkstra]: processed node', current_node)\n",
    "        \n",
    "        relax(graph, current_node, queue)\n",
    "        \n",
    "        graph.get(current_node)['visited'] = True    \n",
    "    \n",
    "    return graph"
   ]
  },
  {
   "cell_type": "markdown",
   "metadata": {},
   "source": [
    "---\n",
    "## Example Graph\n",
    "The following graph is used as an example to show how the code works. The graph is assumed to have the following attributes\n",
    "\n",
    "Key | Value\n",
    "------------ | -------------\n",
    "adiacency_list | {'B': 5, 'D': 9, 'E': 2}\n",
    "\n",
    "<div >\n",
    "<img style=\"display: block;margin: 0 auto;\" src=\"graph.png\" width=\"300\"/>\n",
    "</div>"
   ]
  },
  {
   "cell_type": "code",
   "execution_count": 6,
   "metadata": {},
   "outputs": [
    {
     "name": "stdout",
     "output_type": "stream",
     "text": [
      "[dijkstra]: processed node A\n",
      "[dijkstra]: processed node B\n",
      "[dijkstra]: processed node E\n",
      "[dijkstra]: processed node C\n",
      "[dijkstra]: processed node D\n",
      "the node A has distance from the source equal to 0\n",
      "the node B has distance from the source equal to 3\n",
      "the node C has distance from the source equal to 6\n",
      "the node D has distance from the source equal to 9\n",
      "the node E has distance from the source equal to 5\n"
     ]
    }
   ],
   "source": [
    "if __name__ == '__main__':\n",
    "    graph = {\n",
    "        'A': {'adjacency_list': {'B': 3, 'E': 5}}, \n",
    "        'B': {'adjacency_list': {'C': 3}}, \n",
    "        'C': {'adjacency_list': {'D': 3}},\n",
    "        'D': {'adjacency_list': {}}, \n",
    "        'E': {'adjacency_list': {'D': 5}}, \n",
    "    }\n",
    "\n",
    "    for node, attributes in dijkstra(graph, 'A').items():\n",
    "        print('the node', node, 'has distance from the source equal to', attributes.get('distance'))"
   ]
  },
  {
   "cell_type": "code",
   "execution_count": null,
   "metadata": {},
   "outputs": [],
   "source": []
  }
 ],
 "metadata": {
  "kernelspec": {
   "display_name": "Python 3",
   "language": "python",
   "name": "python3"
  },
  "language_info": {
   "codemirror_mode": {
    "name": "ipython",
    "version": 3
   },
   "file_extension": ".py",
   "mimetype": "text/x-python",
   "name": "python",
   "nbconvert_exporter": "python",
   "pygments_lexer": "ipython3",
   "version": "3.9.0"
  }
 },
 "nbformat": 4,
 "nbformat_minor": 4
}
